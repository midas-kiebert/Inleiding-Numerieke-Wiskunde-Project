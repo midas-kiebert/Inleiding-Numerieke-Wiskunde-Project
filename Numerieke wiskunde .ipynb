{
 "cells": [
  {
   "cell_type": "code",
   "execution_count": 214,
   "metadata": {},
   "outputs": [],
   "source": [
    "from random import random\n",
    "import numpy as np\n",
    "from scipy import rand\n",
    "import scipy.linalg\n",
    "import matplotlib.pyplot as plt\n",
    "\n",
    "np.set_printoptions(precision=1, suppress=True)"
   ]
  },
  {
   "cell_type": "markdown",
   "metadata": {},
   "source": [
    "Opdracht 1. Het valt ons op dat er iets mis gaat in de code, de linker onder\n",
    "singuliere waarde is af en toe negatief, terwijl dit positief zou moeten zijn.\n",
    "Dit blijkt een gevolg te zijn van deze methode om de singulierewaardendecompositie te benaderen,\n",
    "dit wordt in latere opdrachten verbeterd met een algemenere svd benadering gemaakt die ook voor een 2x2 matrix werkt.\n",
    "We hebben de som van de absolute fouten van de singuliere waarden geplot as functie van $j$ voor $j \\in \\{0,1,\\dots,5\\}$.\n",
    "Meestal is de fout na 2 of 3 iteraties al heel klein en daarna daalt het heel langzaam."
   ]
  },
  {
   "cell_type": "code",
   "execution_count": 217,
   "metadata": {},
   "outputs": [
    {
     "data": {
      "text/plain": [
       "[<matplotlib.lines.Line2D at 0x7f17e8294b20>]"
      ]
     },
     "execution_count": 217,
     "metadata": {},
     "output_type": "execute_result"
    },
    {
     "data": {
      "image/png": "[encoded data removed]",
      "text/plain": [
       "<Figure size 432x288 with 1 Axes>"
      ]
     },
     "metadata": {
      "needs_background": "light"
     },
     "output_type": "display_data"
    }
   ],
   "source": [
    "def rot2d(a, b):\n",
    "    factor = 1/(np.sqrt(a**2+b**2))\n",
    "    matrix = np.array([[a, b], [-b, a]])\n",
    "    return factor*matrix\n",
    "\n",
    "def approx_svd(A, j):\n",
    "    if j == 0:\n",
    "        return A\n",
    "    prevA = approx_svd(A, j-1)\n",
    "    if j % 2 == 0:\n",
    "        return prevA @ rot2d(prevA[0][0], prevA[0][1]).T\n",
    "    return rot2d(prevA[0][0], prevA[1][0]) @ prevA\n",
    "\n",
    "def sigma(a):\n",
    "    U, s, vH = np.linalg.svd(a)\n",
    "    return s\n",
    "\n",
    "def fout(A, j):\n",
    "    onze_sv = [approx_svd(A, j)[0][0], approx_svd(A, j)[1][1]]\n",
    "    np_sv = sigma(A)\n",
    "    return sum(abs(onze_sv - np_sv))\n",
    "\n",
    "A = np.random.rand(2, 2)\n",
    "\n",
    "x_range = np.linspace(0,5,6)\n",
    "y_range = np.array(list(map(lambda x: fout(A, x), x_range)))\n",
    "\n",
    "plt.xlabel(\"$j$\")\n",
    "plt.ylabel(\"absolute fout\")\n",
    "plt.plot(x_range, y_range)"
   ]
  },
  {
   "cell_type": "markdown",
   "metadata": {},
   "source": [
    "Opdracht 2.De nulrechts functie kan alle waardes in de bovendriehoek in nullen\n",
    "verranderen en werkt dus alleen voor $i,j$ met $j>i$. De nullinks functie kan alle\n",
    "waardes in de onderdriehoek in nullen verranderen en werkt dus alleen voor $i, j$\n",
    "met $i>j$. Waarbij $i$ en $j$ natuurlijk wel naar een entry van de matrix wijzen."
   ]
  },
  {
   "cell_type": "code",
   "execution_count": 133,
   "metadata": {},
   "outputs": [],
   "source": [
    "\n",
    "def rot_links(n, a, b, i):\n",
    "    boven = np.eye(i)\n",
    "    onder = np.eye(n-i-2)\n",
    "    return scipy.linalg.block_diag(boven, rot2d(a, b), onder)\n",
    "\n",
    "def nul_links(A, i, j):\n",
    "    a = A[i-2][j-1]\n",
    "    b = A[i-1][j-1]\n",
    "    return rot_links(len(A), a, b, (i-2))\n",
    "\n",
    "\n",
    "def rot_rechts(n, a, b, i):\n",
    "    boven = np.eye(i)\n",
    "    onder = np.eye(n-i-2)\n",
    "    return scipy.linalg.block_diag(boven, rot2d(a, b).T, onder)\n",
    "\n",
    "\n",
    "def nul_rechts(A, i, j):\n",
    "    c = A[i-1][j-2]\n",
    "    d = A[i-1][j-1]\n",
    "    return rot_rechts(len(A[0]), c, d, (j-2))"
   ]
  },
  {
   "cell_type": "markdown",
   "metadata": {},
   "source": [
    "Opdracht 3. De stappen die worden toegepast zijn te vinden in opdracht 4.\n",
    "De volgorde waarin deze stappen moeten worden uitgevoerd maakt uit. Een\n",
    "verkeerde volgorde resulteert erin dat een eerder gemaakte nul wordt verpest bij\n",
    "het maken van een nieuwe nul in de matrix.\n",
    "De volgorde werkt als volgt bij een arbitrair grote matrix. Om een\n",
    "boven-bidiagonaal matrix te maken begin je met de eerste kolom van onder naar\n",
    "boven in nullen te veranderen. Vervolgens verander je de eerste rij in nullen,\n",
    "beginnend bij het meest rechter element werkend tot 1 voor de diagonaal.\n",
    "Vervolgens herhaal je dit op dezelfde volgorde voor de tweede kolom, en de\n",
    "tweede rij, vervolgens voor de derde kolom en derde rij, en zo voort tot je\n",
    "alle rijen langs bent gegaan. Dit is omdat de nulrijen/kolommen ervoor zorgen dat eerder gemaakte nullen nul zullen blijven."
   ]
  },
  {
   "cell_type": "markdown",
   "metadata": {},
   "source": [
    "Opdracht 4. Beide functies zijn in bidiagonaliseer(A) geimplementeerd."
   ]
  },
  {
   "cell_type": "code",
   "execution_count": 137,
   "metadata": {},
   "outputs": [
    {
     "name": "stdout",
     "output_type": "stream",
     "text": [
      "A=\n",
      "[[0.1461 0.2691 0.5624]\n",
      " [0.8014 0.4045 0.7928]\n",
      " [0.2656 0.9009 0.0368]\n",
      " [0.5127 0.7354 0.0527]]\n",
      "\n",
      "Resultaat van decompositie: \n",
      "\n",
      "[[ 0.1463  0.8026  0.266   0.5134]\n",
      " [ 0.6406 -0.3243  0.6951 -0.0358]\n",
      " [ 0.6158  0.3782 -0.4194 -0.5495]\n",
      " [ 0.4347 -0.328  -0.5198  0.6582]]\n",
      "\n",
      "[[ 0.9985  1.2384 -0.    ]\n",
      " [-0.      0.5854 -0.2906]\n",
      " [-0.     -0.      0.7594]\n",
      " [-0.     -0.      0.    ]]\n",
      "\n",
      "[[ 1.      0.      0.    ]\n",
      " [ 0.      0.7924 -0.61  ]\n",
      " [ 0.      0.61    0.7924]]\n"
     ]
    }
   ],
   "source": [
    "def bidiagonaliseer(A):\n",
    "    matrix = A.copy()\n",
    "    l_rots = np.eye(len(A))\n",
    "\n",
    "    for i in range(2, len(A)+1)[::-1]:\n",
    "        l_rots = nul_links(matrix, i, 1) @ l_rots\n",
    "        matrix = nul_links(matrix, i, 1) @ matrix\n",
    "    r_rots = nul_rechts(matrix, 1, 3)\n",
    "    matrix = matrix @ nul_rechts(matrix, 1, 3)\n",
    "    for i in range(3, len(A)+1)[::-1]:\n",
    "        l_rots = nul_links(matrix, i, 2) @ l_rots\n",
    "        matrix = nul_links(matrix, i, 2) @ matrix\n",
    "\n",
    "    l_rots = nul_links(matrix, 4, 3) @ l_rots\n",
    "    matrix = nul_links(matrix, 4, 3) @ matrix\n",
    "    return l_rots, matrix, r_rots\n",
    "\n",
    "A = np.random.rand(4,3)\n",
    "\n",
    "print(\"A=\")\n",
    "print(A)\n",
    "\n",
    "print(\"\\nResultaat van decompositie: \")\n",
    "for m in bidiagonaliseer(A):\n",
    "    print()\n",
    "    print(m)"
   ]
  },
  {
   "cell_type": "markdown",
   "metadata": {},
   "source": [
    "Opdracht 5. Door de twee waardes op de bovendiagonaal in nullen te verranderen,\n",
    "oftwel voor een $4 \\times 3$ de rechts rotatie voor $i=1$ en $j=2$ en vervolgens nog een\n",
    "rechtsrotatie voor $i=2$ en $j=3$. Andersom om van een onder-bidiagonaal een\n",
    "boven-bidiagonaal matrix te maken moet tweemaal een linksrotatie worden gedaan,\n",
    "eenmaal voor $i=2$ en $j=1$ en daarna nog een linksrotatie voor $i=3$ en $j=2$."
   ]
  },
  {
   "cell_type": "markdown",
   "metadata": {},
   "source": [
    "Opdracht 6/7. Hier is de iteratie functie geimplementeerd voor arbitraire matrices, met een $4 \\times 4$ matrix als voorbeeld.\n",
    "Bij het vergelijken met numpy valt ons op dat onze U en V* ongelijk\n",
    "zijn aan de U en V* van numpy. Onze U is de transpose van de numpy U en net zo\n",
    "is onze V* de transpose van de numpy V*. Het blijkt dat uit deze methode dus\n",
    "niet U en V* komen maar $U^*$ en $V$. (Omdat we alleen maar met reeele matrices werken is dit gelijk aan het transponeren).\n",
    "Het is ons opgevallen dat bij vierkante matrices er soms een negatieve singuliere waarde helemaal rechts komt te staan, dit zorgt er ook voor\n",
    "dat in $U$ een aantal kolommen van teken wisselen, wat ervoor zorgt dat dit niet triviaal is om te fixen. Hier moet dus rekening mee gehouden worden\n",
    "wanneer deze benadering wordt gebruikt."
   ]
  },
  {
   "cell_type": "code",
   "execution_count": 216,
   "metadata": {},
   "outputs": [
    {
     "name": "stdout",
     "output_type": "stream",
     "text": [
      "Onze uitkomst:\n",
      "U=\n",
      "[[ 0.6  0.5  0.4  0.4]\n",
      " [ 0.2 -0.1  0.6 -0.8]\n",
      " [ 0.2 -0.8  0.3  0.4]\n",
      " [-0.8  0.2  0.6  0.3]]\n",
      "A=\n",
      "[[ 2.5  0.  -0.  -0. ]\n",
      " [-0.   0.8  0.  -0. ]\n",
      " [-0.   0.   0.5 -0. ]\n",
      " [ 0.   0.   0.   0.2]]\n",
      "V*=\n",
      "[[ 0.3 -0.6  0.6  0.4]\n",
      " [ 0.6 -0.5 -0.6 -0.3]\n",
      " [ 0.5  0.3  0.5 -0.6]\n",
      " [ 0.6  0.5 -0.1  0.6]]\n",
      "Start matrix:\n",
      "[[0.3 0.7 0.9 0.9]\n",
      " [0.1 0.9 0.4 0.8]\n",
      " [0.1 0.2 0.7 0.9]\n",
      " [0.8 0.8 0.3 0.4]]\n",
      "UAV*=\n",
      "[[0.3 0.7 0.9 0.9]\n",
      " [0.1 0.9 0.4 0.8]\n",
      " [0.1 0.2 0.7 0.9]\n",
      " [0.8 0.8 0.3 0.4]]\n",
      "Numpy uitkomst:\n",
      "U=\n",
      "[[-0.6 -0.2 -0.2 -0.8]\n",
      " [-0.5  0.1  0.8  0.2]\n",
      " [-0.4 -0.6 -0.3  0.6]\n",
      " [-0.4  0.8 -0.4  0.3]]\n",
      "A=\n",
      "[2.5 0.8 0.5 0.2]\n",
      "V*=\n",
      "[[-0.3 -0.6 -0.5 -0.6]\n",
      " [ 0.6  0.5 -0.3 -0.5]\n",
      " [-0.6  0.6 -0.5  0.1]\n",
      " [ 0.4 -0.3 -0.6  0.6]]\n",
      "Start matrix:\n",
      "[[0.3 0.7 0.9 0.9]\n",
      " [0.1 0.9 0.4 0.8]\n",
      " [0.1 0.2 0.7 0.9]\n",
      " [0.8 0.8 0.3 0.4]]\n",
      "UAV*=\n",
      "[[0.3 0.7 0.9 0.9]\n",
      " [0.1 0.9 0.4 0.8]\n",
      " [0.1 0.2 0.7 0.9]\n",
      " [0.8 0.8 0.3 0.4]]\n"
     ]
    }
   ],
   "source": [
    "# Maak een bovenbidiagonaal matrix van een willekeurige matrix\n",
    "def boven_bidiagonaliseer_alle(A):\n",
    "    N = len(A)\n",
    "    M = len(A[0])\n",
    "    V = np.eye(len(A[0]), len(A[0]))\n",
    "    U = np.eye(len(A), len(A))\n",
    "    for i in range(1, max(N, M)):\n",
    "        for j in range(N, i, -1):\n",
    "            if i > M:\n",
    "              continue\n",
    "            links=nul_links(A, j, i)\n",
    "            A = links@A\n",
    "            U = links@ U\n",
    "        for j in range(M, i+1, -1):\n",
    "            if i > N:\n",
    "                continue\n",
    "            rechts = nul_rechts(A, i, j)\n",
    "            A = A@ rechts\n",
    "            V = V @ rechts\n",
    "    return A, V, U\n",
    "\n",
    "# Maak een onderbidiagonaal matrix van een bovenbidiagonaal matrix\n",
    "def boven_naar_onder(A, V):\n",
    "    n = len(A)\n",
    "    m = len(A[0])\n",
    "    i = 2\n",
    "    j = 1\n",
    "    while j <= n and i <= m:\n",
    "        rechts =nul_rechts(A, j, i)\n",
    "        A = A @ rechts\n",
    "        V= V@ rechts\n",
    "        i += 1\n",
    "        j += 1\n",
    "    return A, V\n",
    "\n",
    "# Maak een bovenbidiagonaal matrix van een onderbidiagonaal matrix\n",
    "def onder_naar_boven(A, U):\n",
    "    n = len(A)\n",
    "    m = len(A[0])\n",
    "    i = 1\n",
    "    j = 2\n",
    "    while j <= n and i <= m:\n",
    "        links=nul_links(A, j, i)\n",
    "        A = links @ A\n",
    "        U = links @ U\n",
    "        i += 1\n",
    "        j += 1\n",
    "    return A, U\n",
    "\n",
    "# bovenbidiagonaliseer A en voer n keer een boven_naar_onder en onder_naar_boven iteratie toe.\n",
    "def iteratie(A, n):\n",
    "    A, V, U = boven_bidiagonaliseer_alle(A)\n",
    "    for _ in range(n):\n",
    "        A, V = boven_naar_onder(A, V)\n",
    "        A, U = onder_naar_boven(A, U)\n",
    "    return A, V, U\n",
    "\n",
    "\n",
    "N=4\n",
    "M=4\n",
    "Matrix = np.random.rand(N, M)\n",
    "U_np,A_np, V_np = np.linalg.svd(Matrix)\n",
    "\n",
    "A, V, U = iteratie(Matrix, 10)\n",
    "\n",
    "print(\"Onze uitkomst:\")\n",
    "print(\"U=\")\n",
    "print(U)\n",
    "print(\"A=\")\n",
    "print(A)\n",
    "print(\"V*=\")\n",
    "print(V)\n",
    "print(\"Start matrix:\")\n",
    "print(Matrix)\n",
    "print(\"UAV*=\")\n",
    "print(U.T@A@V.T)\n",
    "\n",
    "print(\"Numpy uitkomst:\")\n",
    "print(\"U=\")\n",
    "print(U_np)\n",
    "print(\"A=\")\n",
    "print(A_np)\n",
    "print(\"V*=\")\n",
    "print(V_np)\n",
    "print(\"Start matrix:\")\n",
    "print(Matrix)\n",
    "print(\"UAV*=\")\n",
    "print(U_np@A@V_np)\n"
   ]
  }
 ],
 "metadata": {
  "interpreter": {
   "hash": "ea73f46049633b36a41af2e48c119876facec9860c78742495e9797e6fa8fe2b"
  },
  "kernelspec": {
   "display_name": "Python 3.9.7 64-bit ('base': conda)",
   "name": "python3"
  },
  "language_info": {
   "codemirror_mode": {
    "name": "ipython",
    "version": 3
   },
   "file_extension": ".py",
   "mimetype": "text/x-python",
   "name": "python",
   "nbconvert_exporter": "python",
   "pygments_lexer": "ipython3",
   "version": "3.8.10"
  }
 },
 "nbformat": 4,
 "nbformat_minor": 5
}
