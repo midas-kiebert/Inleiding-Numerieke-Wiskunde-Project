{
 "cells": [
  {
   "cell_type": "code",
   "execution_count": 549,
   "source": [
    "from random import random\n",
    "import numpy as np\n",
    "from scipy import rand\n",
    "import scipy.linalg\n",
    "\n",
    "np.set_printoptions(precision=2, suppress=True)"
   ],
   "outputs": [],
   "metadata": {}
  },
  {
   "cell_type": "markdown",
   "source": [
    "Opdracht 1. Het valt ons op dat er iets mis gaat in de code, de linker onder\n",
    "singuliere waarde is af en toe negatief, terwijl dit positief zou moeten zijn\n",
    "in de latere opdracht hebben we algemenere svd benadering gemaakt die ook voor\n",
    "een 2x2 matrix werkt."
   ],
   "metadata": {}
  },
  {
   "cell_type": "code",
   "execution_count": 550,
   "source": [
    "def rot2d(a, b):\n",
    "    factor = 1/(np.sqrt(a**2+b**2))\n",
    "    matrix = np.array([[a, b], [-b, a]])\n",
    "    return factor*matrix\n",
    "\n",
    "def approx_svd(A, j):\n",
    "    if j == 0:\n",
    "        return A\n",
    "    prevA = approx_svd(A, j-1)\n",
    "    if j % 2 == 0:\n",
    "        return prevA @ rot2d(prevA[0][0], prevA[0][1]).T\n",
    "    return rot2d(prevA[0][0], prevA[1][0]) @ prevA\n",
    "\n",
    "def sigma(a):\n",
    "    U, s, vH = np.linalg.svd(a)\n",
    "    return s\n",
    "\n",
    "A = np.random.rand(2, 2)\n",
    "print(A)\n",
    "# print(approx_svd(A, 1))\n",
    "# print(approx_svd(A, 2))\n",
    "# print(approx_svd(A, 15))\n",
    "print(approx_svd(A, 10))\n",
    "print(sigma(A))"
   ],
   "outputs": [
    {
     "output_type": "stream",
     "name": "stdout",
     "text": [
      "[[0.47 0.47]\n",
      " [0.81 0.02]]\n",
      "[[ 0.97  0.  ]\n",
      " [-0.   -0.39]]\n",
      "[0.97 0.39]\n"
     ]
    }
   ],
   "metadata": {}
  },
  {
   "cell_type": "markdown",
   "source": [
    "Opdracht 2.De nulrechts functie kan alle waardes in de bovendriehoek in nullen\n",
    "verranderen en werkt dus alleen voor i,j met j>i. De nullinks functie kan alle\n",
    "waardes in de onderdriehoek in nullen verranderen en werkt dus alleen voor i, j\n",
    "met i>j."
   ],
   "metadata": {}
  },
  {
   "cell_type": "code",
   "execution_count": 551,
   "source": [
    "\n",
    "def rot(n, a, b, i):\n",
    "    boven = np.eye(i)\n",
    "    onder = np.eye(n-i-2)\n",
    "    return scipy.linalg.block_diag(boven, rot2d(a, b), onder)\n",
    "\n",
    "def nul_links(A, i, j):\n",
    "    a = A[i-2][j-1]\n",
    "    b = A[i-1][j-1]\n",
    "    return rot(len(A), a, b, (i-2))\n",
    "\n",
    "\n",
    "def rot_rechts(n, a, b, i):\n",
    "    boven = np.eye(i)\n",
    "    onder = np.eye(n-i-2)\n",
    "    return scipy.linalg.block_diag(boven, rot2d(a, b).T, onder)\n",
    "\n",
    "\n",
    "def nul_rechts(A, i, j):\n",
    "    c = A[i-1][j-2]\n",
    "    d = A[i-1][j-1]\n",
    "    return rot_rechts(len(A[0]), c, d, (j-2))\n",
    "\n",
    "def links_rotaties(A):\n",
    "    matrix = A\n",
    "    for i in range(2, len(A)+1)[::-1]:\n",
    "        matrix = nul_links(matrix, i, 1)@matrix\n",
    "    for i in range(3, len(A)+1)[::-1]:\n",
    "        matrix = nul_links(matrix, i, 2) @ matrix\n",
    "    matrix = nul_links(matrix, 4, 3) @ matrix\n",
    "    return matrix"
   ],
   "outputs": [],
   "metadata": {}
  },
  {
   "cell_type": "markdown",
   "source": [
    "Opdracht 3. De stappen die worden toegepast zijn te vinden in opdracht 4.\n",
    "De volgorde waarin deze stappen moeten worden uitgevoerd maakt uit. Een\n",
    "verkeerde volgorde resulteert erin dat een eerder gemaakte nul wordt verpest bij\n",
    "het maken van een nieuwe nul in de matrix.\n",
    "De volgorde werkt als volgt bij een arbitrair grote matrix. Om een\n",
    "boven-bidiagonaal matrix te maken begin je met de eerste kolom van onder naar\n",
    "boven in nullen te verranderen. Vervolgens verrander je de eerste rij in nullen,\n",
    "beginnend bij het meest rechter ellement werkend tot 1 voor de diagonaal.\n",
    "Vervolgens herhaal je dit op dezelfde volgorde voor de tweede kolom, en de\n",
    "tweede rij, vervolgens voor de derde kolom en derde rij, en zo voort tot je\n",
    "alle rijen langs bent gegaan."
   ],
   "metadata": {}
  },
  {
   "cell_type": "markdown",
   "source": [
    "Opdracht 4."
   ],
   "metadata": {}
  },
  {
   "cell_type": "code",
   "execution_count": 552,
   "source": [
    "def bidiagonaliseer(A):\n",
    "    matrix = A\n",
    "    for i in range(2, len(A)+1)[::-1]:\n",
    "        matrix = nul_links(matrix, i, 1)@matrix\n",
    "    matrix = matrix @ nul_rechts(matrix, 1, 3)\n",
    "    for i in range(3, len(A)+1)[::-1]:\n",
    "        matrix = nul_links(matrix, i, 2) @ matrix\n",
    "\n",
    "    matrix = nul_links(matrix, 4, 3) @ matrix\n",
    "\n",
    "    return matrix\n",
    "\n",
    "def links_rotaties(A):\n",
    "    matrix = A\n",
    "    for i in range(2, len(A)+1)[::-1]:\n",
    "        matrix = nul_links(matrix, i, 1)@matrix\n",
    "    for i in range(3, len(A)+1)[::-1]:\n",
    "        matrix = nul_links(matrix, i, 2) @ matrix\n",
    "    matrix = nul_links(matrix, 4, 3) @ matrix\n",
    "    return matrix\n",
    "\n",
    "def bidiagonaliseer_stap(A):\n",
    "    U = links_rotaties(A)\n",
    "    W = A @ nul_rechts(A, 1, 3)\n",
    "    return (U, bidiagonaliseer(A), W)\n"
   ],
   "outputs": [],
   "metadata": {}
  },
  {
   "cell_type": "markdown",
   "source": [
    "Opdracht 5. Door de twee waardes op de bovendiagonaal in nullen te verranderen,\n",
    "oftwel voor een 4x3 de rechts rotatie voor i=1 en j=2 en vervolgens nog een\n",
    "rechtsrotatie voor i=2 en j=3. Andersom om van een onder-bidiagonaal een\n",
    "boven-bidiagonaal matrix te maken moet tweemaal een linksrotatie worden gedaan,\n",
    "eenmaal voor i=2 en j=1 en daarna nog een linksrotatie voor i=3 en j=2."
   ],
   "metadata": {}
  },
  {
   "cell_type": "markdown",
   "source": [
    "Opdracht 6. Bij het vergelijken met numpy valt ons op dat onze U en V* ongelijk\n",
    "zijn aan de U en V* van numpy. Onze U is de transpose van de numpy U en net zo\n",
    "is onze V* de transpose van de numpy V*. Het blijkt dat uit deze methode dus\n",
    "niet U en V* komen maar $U^T en V.$"
   ],
   "metadata": {}
  },
  {
   "cell_type": "code",
   "execution_count": 553,
   "source": [
    "def boven_bidiagonaliseer_alle(A):\n",
    "    N = len(A)\n",
    "    M = len(A[0])\n",
    "    V = np.eye(len(A[0]), len(A[0]))\n",
    "    U = np.eye(len(A), len(A))\n",
    "    for i in range(1, max(N, M)):\n",
    "        for j in range(N, i, -1):\n",
    "            if i > M:\n",
    "              continue\n",
    "            links=nul_links(A, j, i)\n",
    "            A = links@A\n",
    "            U = links@ U\n",
    "        for j in range(M, i+1, -1):\n",
    "            if i > N:\n",
    "                continue\n",
    "            rechts = nul_rechts(A, i, j)\n",
    "            A = A@ rechts\n",
    "            V = V @ rechts\n",
    "    return A, V, U\n",
    "\n",
    "def boven_naar_onder(A, V):\n",
    "    n = len(A)\n",
    "    m = len(A[0])\n",
    "    i = 2\n",
    "    j = 1\n",
    "    while j <= n and i <= m:\n",
    "        rechts =nul_rechts(A, j, i)\n",
    "        A = A @ rechts\n",
    "        V= V@ rechts\n",
    "        i += 1\n",
    "        j += 1\n",
    "    return A, V\n",
    "\n",
    "\n",
    "def onder_naar_boven(A, U):\n",
    "    n = len(A)\n",
    "    m = len(A[0])\n",
    "    i = 1\n",
    "    j = 2\n",
    "    while j <= n and i <= m:\n",
    "        links=nul_links(A, j, i)\n",
    "        A = links @ A\n",
    "        U = links @ U\n",
    "        i += 1\n",
    "        j += 1\n",
    "    return A, U\n",
    "\n",
    "\n",
    "def iteratie(A, n):\n",
    "    A, V, U = boven_bidiagonaliseer_alle(A)\n",
    "    for _ in range(n):\n",
    "        A, V = boven_naar_onder(A, V)\n",
    "        A, U = onder_naar_boven(A, U)\n",
    "    return A, V, U\n",
    "\n",
    "\n",
    "N=3\n",
    "M=5\n",
    "Matrix = np.random.rand(N, M)\n",
    "U_np,A_np, V_np = np.linalg.svd(Matrix)\n",
    "\n",
    "A, V, U = iteratie(Matrix, 16)\n",
    "\n",
    "print(\"Onze uitkomst:\")\n",
    "print(\"U=\")\n",
    "print(U)\n",
    "print(\"A=\")\n",
    "print(A)\n",
    "print(\"V*=\")\n",
    "print(V)\n",
    "print(\"Start matrix:\")\n",
    "print(Matrix)\n",
    "print(\"U*A*V=\")\n",
    "print(U@A@V)\n",
    "print(\"U*A*V=\")\n",
    "print(U.T@A@V.T)\n",
    "\n",
    "print(\"Numpy uitkomst:\")\n",
    "print(\"U=\")\n",
    "print(U_np)\n",
    "print(\"A=\")\n",
    "print(A_np)\n",
    "print(\"V*=\")\n",
    "print(V_np)\n",
    "print(\"Start matrix:\")\n",
    "print(Matrix)\n",
    "print(\"U*A*V=\")\n",
    "print(U_np@A@V_np)\n",
    "\n",
    "\n"
   ],
   "outputs": [
    {
     "output_type": "stream",
     "name": "stdout",
     "text": [
      "Onze uitkomst:\n",
      "U=\n",
      "[[ 0.59  0.41  0.69]\n",
      " [-0.13  0.9  -0.42]\n",
      " [-0.79  0.15  0.59]]\n",
      "A=\n",
      "[[ 1.68  0.    0.   -0.    0.  ]\n",
      " [ 0.    0.62 -0.    0.   -0.  ]\n",
      " [-0.    0.    0.23  0.   -0.  ]]\n",
      "V*=\n",
      "[[ 0.17 -0.19 -0.2  -0.95  0.  ]\n",
      " [ 0.35  0.9  -0.08 -0.1   0.21]\n",
      " [ 0.57 -0.01  0.17  0.07 -0.8 ]\n",
      " [ 0.68 -0.36 -0.39  0.28  0.42]\n",
      " [ 0.26 -0.12  0.88 -0.11  0.36]]\n",
      "Start matrix:\n",
      "[[0.23 0.28 0.53 0.78 0.11]\n",
      " [0.01 0.74 0.39 0.25 0.14]\n",
      " [0.22 0.16 0.68 0.83 0.46]]\n",
      "U*A*V=\n",
      "[[ 0.35  0.04 -0.19 -0.96 -0.07]\n",
      " [ 0.1   0.55 -0.02  0.15  0.2 ]\n",
      " [-0.12  0.34  0.28  1.26 -0.09]]\n",
      "U*A*V=\n",
      "[[0.23 0.28 0.53 0.78 0.11]\n",
      " [0.01 0.74 0.39 0.25 0.14]\n",
      " [0.22 0.16 0.68 0.83 0.46]]\n",
      "Numpy uitkomst:\n",
      "U=\n",
      "[[-0.59 -0.13 -0.79]\n",
      " [-0.41  0.9   0.15]\n",
      " [-0.69 -0.42  0.59]]\n",
      "A=\n",
      "[1.68 0.62 0.23]\n",
      "V*=\n",
      "[[-0.17 -0.35 -0.57 -0.68 -0.26]\n",
      " [-0.19  0.9  -0.01 -0.36 -0.12]\n",
      " [-0.2  -0.08  0.17 -0.39  0.88]\n",
      " [-0.85  0.   -0.29  0.44  0.06]\n",
      " [ 0.42  0.23 -0.75  0.26  0.37]]\n",
      "Start matrix:\n",
      "[[0.23 0.28 0.53 0.78 0.11]\n",
      " [0.01 0.74 0.39 0.25 0.14]\n",
      " [0.22 0.16 0.68 0.83 0.46]]\n",
      "U*A*V=\n",
      "[[0.23 0.28 0.53 0.78 0.11]\n",
      " [0.01 0.74 0.39 0.25 0.14]\n",
      " [0.22 0.16 0.68 0.83 0.46]]\n"
     ]
    }
   ],
   "metadata": {}
  },
  {
   "cell_type": "markdown",
   "source": [],
   "metadata": {}
  },
  {
   "cell_type": "markdown",
   "source": [
    "$\\LaTeX{}$"
   ],
   "metadata": {}
  },
  {
   "cell_type": "markdown",
   "source": [
    "$5x + 3 = 1$"
   ],
   "metadata": {}
  },
  {
   "cell_type": "code",
   "execution_count": null,
   "source": [],
   "outputs": [],
   "metadata": {}
  }
 ],
 "metadata": {
  "kernelspec": {
   "name": "python3",
   "display_name": "Python 3.9.7 64-bit ('base': conda)"
  },
  "language_info": {
   "codemirror_mode": {
    "name": "ipython",
    "version": 3
   },
   "file_extension": ".py",
   "mimetype": "text/x-python",
   "name": "python",
   "nbconvert_exporter": "python",
   "pygments_lexer": "ipython3",
   "version": "3.9.7"
  },
  "interpreter": {
   "hash": "ea73f46049633b36a41af2e48c119876facec9860c78742495e9797e6fa8fe2b"
  }
 },
 "nbformat": 4,
 "nbformat_minor": 5
}